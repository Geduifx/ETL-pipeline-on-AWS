{
 "cells": [
  {
   "cell_type": "code",
   "execution_count": 33,
   "id": "dd4dad0e",
   "metadata": {},
   "outputs": [],
   "source": [
    "import boto3 # Python integration with AWS.\n",
    "import pandas as pd # Read csv.\n",
    "from io import StringIO, BytesIO # StringIO to read csv on AWS. BytesIO to save as Parquet file to S3.\n",
    "from datetime import datetime, timedelta # Date functions."
   ]
  },
  {
   "cell_type": "code",
   "execution_count": 34,
   "id": "0912e8bf",
   "metadata": {},
   "outputs": [],
   "source": [
    "# Read meta_file.csv \n",
    "\n",
    "def read_csv_to_df(bucket, key, decoding = 'utf-8', sep = ','):\n",
    "    csv_obj = bucket.Object(key=key).get().get('Body').read().decode(decoding)\n",
    "    # Read csvs with StringIO (needed for AWS) and Pandas\n",
    "    data = StringIO(csv_obj)\n",
    "    df = pd.read_csv(data, delimiter=sep)\n",
    "    return df\n",
    "\n",
    "meta_key = 'meta_file.csv'\n",
    "bucket_name_trg = 'manoetl123'\n",
    "s3 = boto3.resource('s3')\n",
    "bucket_trg = s3.Bucket(bucket_name_trg)\n",
    "\n",
    "df_meta = read_csv_to_df(bucket_trg, meta_key)"
   ]
  },
  {
   "cell_type": "code",
   "execution_count": 35,
   "id": "79981a30",
   "metadata": {
    "scrolled": true
   },
   "outputs": [
    {
     "data": {
      "text/html": [
       "<div>\n",
       "<style scoped>\n",
       "    .dataframe tbody tr th:only-of-type {\n",
       "        vertical-align: middle;\n",
       "    }\n",
       "\n",
       "    .dataframe tbody tr th {\n",
       "        vertical-align: top;\n",
       "    }\n",
       "\n",
       "    .dataframe thead th {\n",
       "        text-align: right;\n",
       "    }\n",
       "</style>\n",
       "<table border=\"1\" class=\"dataframe\">\n",
       "  <thead>\n",
       "    <tr style=\"text-align: right;\">\n",
       "      <th></th>\n",
       "      <th>source_date</th>\n",
       "      <th>datetime_of_processing</th>\n",
       "    </tr>\n",
       "  </thead>\n",
       "  <tbody>\n",
       "    <tr>\n",
       "      <th>0</th>\n",
       "      <td>2021-11-25</td>\n",
       "      <td>2021-11-25 12:33:23</td>\n",
       "    </tr>\n",
       "    <tr>\n",
       "      <th>1</th>\n",
       "      <td>2021-11-26</td>\n",
       "      <td>2021-11-26 12:30:21</td>\n",
       "    </tr>\n",
       "  </tbody>\n",
       "</table>\n",
       "</div>"
      ],
      "text/plain": [
       "  source_date datetime_of_processing\n",
       "0  2021-11-25    2021-11-25 12:33:23\n",
       "1  2021-11-26    2021-11-26 12:30:21"
      ]
     },
     "execution_count": 35,
     "metadata": {},
     "output_type": "execute_result"
    }
   ],
   "source": [
    "df_meta"
   ]
  },
  {
   "cell_type": "code",
   "execution_count": 58,
   "id": "bbdbc60f",
   "metadata": {},
   "outputs": [],
   "source": [
    "# Return date list\n",
    "arg_date = '2021-11-25'\n",
    "today_str = '2021-11-27'\n",
    "scr_format = '%Y-%m-%d'\n",
    "# Convert to date type and use previous day\n",
    "min_date = datetime.strptime(arg_date, scr_format).date() - timedelta(days=1)\n",
    "today = datetime.strptime(today_str, scr_format).date()\n",
    "# Return dates as objects in list.\n",
    "return_date_list = [(min_date + timedelta(days=x)) for x in range(0, (today-min_date).days + 1)]"
   ]
  },
  {
   "cell_type": "code",
   "execution_count": 59,
   "id": "e9df7977",
   "metadata": {},
   "outputs": [],
   "source": [
    "# Dates list from meta file\n",
    "src_dates = set(pd.to_datetime(df_meta['source_date']).dt.date)"
   ]
  },
  {
   "cell_type": "code",
   "execution_count": 60,
   "id": "a68f8f6b",
   "metadata": {},
   "outputs": [],
   "source": [
    "# Min date\n",
    "dates_missing = set(return_date_list[1:]) - src_dates\n",
    "if dates_missing:\n",
    "    min_date = min(set(return_date_list[1:]) - src_dates) - timedelta(days=1)\n",
    "    return_dates = [date.strftime(scr_format) for date in return_date_list if date >= min_date]\n",
    "    return_min_date = arg_date\n",
    "else:\n",
    "    return_dates = []\n",
    "    return_min_date = datetime(2200, 1, 1).date()"
   ]
  },
  {
   "cell_type": "code",
   "execution_count": 61,
   "id": "b7c99b78",
   "metadata": {},
   "outputs": [
    {
     "data": {
      "text/plain": [
       "['2021-11-26', '2021-11-27']"
      ]
     },
     "execution_count": 61,
     "metadata": {},
     "output_type": "execute_result"
    }
   ],
   "source": [
    "return_dates"
   ]
  },
  {
   "cell_type": "code",
   "execution_count": 57,
   "id": "057847fd",
   "metadata": {},
   "outputs": [
    {
     "data": {
      "text/plain": [
       "datetime.date(2200, 1, 1)"
      ]
     },
     "execution_count": 57,
     "metadata": {},
     "output_type": "execute_result"
    }
   ],
   "source": [
    "    return_min_date"
   ]
  },
  {
   "cell_type": "markdown",
   "id": "73127418",
   "metadata": {},
   "source": [
    "## Functions"
   ]
  },
  {
   "cell_type": "code",
   "execution_count": 18,
   "id": "2c4a9724",
   "metadata": {},
   "outputs": [],
   "source": [
    "# Adapter Layer Functions\n",
    "\n",
    "def read_csv_to_df(bucket, key, decoding = 'utf-8', sep = ','):\n",
    "    csv_obj = bucket.Object(key=key).get().get('Body').read().decode(decoding)\n",
    "    # Read csvs with StringIO (needed for AWS) and Pandas\n",
    "    data = StringIO(csv_obj)\n",
    "    df = pd.read_csv(data, delimiter=sep)\n",
    "    return df\n",
    "\n",
    "def write_df_to_s3(bucket, df, key):\n",
    "    out_buffer = BytesIO()\n",
    "    df.to_parquet(out_buffer, index=False)\n",
    "    bucket.put_object(Body=out_buffer.getvalue(), Key=key)\n",
    "    return True\n",
    "\n",
    "def list_files_in_prefix(bucket, prefix):\n",
    "    files = [obj.key for obj in bucket.objects.filter(Prefix=prefix)]\n",
    "    return files"
   ]
  },
  {
   "cell_type": "code",
   "execution_count": 19,
   "id": "85aa8360",
   "metadata": {},
   "outputs": [],
   "source": [
    "# Application Layer Functions, ETL\n",
    "\n",
    "def extract(bucket, date_list):\n",
    "    files = [key for date in date_list for key in list_files_in_prefix(bucket, date)]\n",
    "    df = pd.concat([read_csv_to_df(bucket, obj) for obj in files], ignore_index=True)\n",
    "    return df\n",
    "\n",
    "def transform_report1(df, columns, arg_date):\n",
    "    # DF with filtered columns.\n",
    "    df = df.loc[:, columns]\n",
    "    # Filter out empty lines.\n",
    "    df.dropna(inplace=True)\n",
    "    # Get opening price per ISIN and day\n",
    "    # Create new column with opening price.\n",
    "    df['opening_price'] = df.sort_values(by=['Time']).groupby(['ISIN', 'Date'])['StartPrice'].transform('first')\n",
    "    # Get closing price per ISIN and day\n",
    "    # Create new column with closing price.\n",
    "    df['closing_price'] = df.sort_values(by=['Time']).groupby(['ISIN', 'Date'])['StartPrice'].transform('last')\n",
    "    # Aggregation\n",
    "    df = df.groupby(['ISIN', 'Date'], as_index=False).agg(opening_price_eur=('opening_price', 'min'), closing_price_eur=('closing_price', 'min'), minimum_price_eur=('MinPrice', 'min'), maximum_price_eur=('MaxPrice', 'max'), daily_traded_volume=('TradedVolume', 'sum'))\n",
    "    # Percent Change Prev Closing\n",
    "    df['prev_closing_price'] = df.sort_values(by=['Date']).groupby(['ISIN'])['closing_price_eur'].shift(1)\n",
    "    df['change_prev_closing_%'] = (df['closing_price_eur'] - df['prev_closing_price']) / df['prev_closing_price'] * 100\n",
    "    # Remove column and update df\n",
    "    df.drop(columns=['prev_closing_price'], inplace=True)\n",
    "    # Round everything.\n",
    "    df = df.round(decimals=2)\n",
    "    # Filter by date, don't show previous date that was used for calculation.\n",
    "    df = df[df.Date >= arg_date]\n",
    "    return df\n",
    "\n",
    "def load(bucket, df, trg_key, trg_format):\n",
    "    # Write to S3.\n",
    "    key = trg_key + datetime.today().strftime(\"%Y%m%d_%H%M%S\") + trg_format\n",
    "    write_df_to_s3(bucket, df, key)\n",
    "    return True\n",
    "\n",
    "# Combine all three ETL functions.\n",
    "def etl_report1(scr_bucket, trg_bucket, date_list, columns, arg_date, trg_key, trg_format):\n",
    "    df = extract(scr_bucket, date_list)\n",
    "    df = transform_report1(df, columns, arg_date)\n",
    "    load(trg_bucket, df, trg_key, trg_format)\n",
    "    return True"
   ]
  },
  {
   "cell_type": "code",
   "execution_count": 20,
   "id": "a14ba477",
   "metadata": {},
   "outputs": [],
   "source": [
    "# Application layer - not core\n",
    "\n",
    "# Restructure get_objects\n",
    "def return_date_list(bucket, arg_date, scr_format):\n",
    "    # Convert to date type and use previous day\n",
    "    min_date = datetime.strptime(arg_date, scr_format).date() - timedelta(days=1)\n",
    "    today = datetime.today().date()\n",
    "    # Return date list in string format.\n",
    "    return_date_list = [(min_date + timedelta(days=x)).strftime(scr_format) for x in range(0, (today-min_date).days + 1)]\n",
    "    return return_date_list"
   ]
  },
  {
   "cell_type": "code",
   "execution_count": 21,
   "id": "49baa35c",
   "metadata": {},
   "outputs": [],
   "source": [
    "# main function entrypoint\n",
    "\n",
    "def main():\n",
    "    # Parameters/Configurations\n",
    "    # Later read config\n",
    "    # Argument Date for start of report\n",
    "    arg_date = '2022-11-24'\n",
    "    # Moving all arguments and parameters to the beggining of the code\n",
    "    scr_format = '%Y-%m-%d'\n",
    "    scr_bucket = 'xetra-1234'\n",
    "    trg_bucket = 'manoetl123'\n",
    "    columns = ['ISIN', 'Date', 'Time', 'StartPrice', 'MaxPrice', 'MinPrice', 'EndPrice', 'TradedVolume']\n",
    "    trg_key = 'xetra_daily_report_'\n",
    "    trg_format = '.parquet'\n",
    "    \n",
    "    # Init\n",
    "    # Variables for data on AWS S3.\n",
    "    s3 = boto3.resource('s3')\n",
    "    bucket_scr = s3.Bucket(scr_bucket)\n",
    "    bucket_trg = s3.Bucket(trg_bucket)\n",
    "    \n",
    "    # run application\n",
    "    date_list = return_date_list(bucket_scr, arg_date, scr_format)\n",
    "    etl_report1(bucket_scr, bucket_trg, date_list, columns, arg_date, trg_key, trg_format)"
   ]
  },
  {
   "cell_type": "code",
   "execution_count": 22,
   "id": "acf52b0c",
   "metadata": {},
   "outputs": [],
   "source": [
    "# run\n",
    "\n",
    "main()"
   ]
  },
  {
   "cell_type": "markdown",
   "id": "141413dd",
   "metadata": {},
   "source": [
    "## Read the uploaded file"
   ]
  },
  {
   "cell_type": "code",
   "execution_count": 23,
   "id": "88291718",
   "metadata": {},
   "outputs": [
    {
     "name": "stdout",
     "output_type": "stream",
     "text": [
      "xetra_daily_report_20221122_222801.parquet\n",
      "xetra_daily_report_20221122_233442.parquet\n",
      "xetra_daily_report_20221123_183552.parquet\n",
      "xetra_daily_report_20221124_210807.parquet\n"
     ]
    }
   ],
   "source": [
    "trg_bucket = 'manoetl123'\n",
    "s3 = boto3.resource('s3')\n",
    "bucket_trg = s3.Bucket(trg_bucket)\n",
    "\n",
    "# Read the uploaded file\n",
    "for obj in bucket_trg.objects.all():\n",
    "    print(obj.key)"
   ]
  },
  {
   "cell_type": "code",
   "execution_count": 26,
   "id": "ba481f0f",
   "metadata": {},
   "outputs": [],
   "source": [
    "prq_obj = bucket_trg.Object(key='xetra_daily_report_20221124_210807.parquet').get().get('Body').read()\n",
    "data = BytesIO(prq_obj)\n",
    "df_report = pd.read_parquet(data)"
   ]
  },
  {
   "cell_type": "code",
   "execution_count": 27,
   "id": "a3494b8e",
   "metadata": {},
   "outputs": [
    {
     "data": {
      "text/html": [
       "<div>\n",
       "<style scoped>\n",
       "    .dataframe tbody tr th:only-of-type {\n",
       "        vertical-align: middle;\n",
       "    }\n",
       "\n",
       "    .dataframe tbody tr th {\n",
       "        vertical-align: top;\n",
       "    }\n",
       "\n",
       "    .dataframe thead th {\n",
       "        text-align: right;\n",
       "    }\n",
       "</style>\n",
       "<table border=\"1\" class=\"dataframe\">\n",
       "  <thead>\n",
       "    <tr style=\"text-align: right;\">\n",
       "      <th></th>\n",
       "      <th>ISIN</th>\n",
       "      <th>Date</th>\n",
       "      <th>opening_price_eur</th>\n",
       "      <th>closing_price_eur</th>\n",
       "      <th>minimum_price_eur</th>\n",
       "      <th>maximum_price_eur</th>\n",
       "      <th>daily_traded_volume</th>\n",
       "      <th>change_prev_closing_%</th>\n",
       "    </tr>\n",
       "  </thead>\n",
       "  <tbody>\n",
       "    <tr>\n",
       "      <th>0</th>\n",
       "      <td>AT000000STR1</td>\n",
       "      <td>2022-11-24</td>\n",
       "      <td>36.05</td>\n",
       "      <td>36.35</td>\n",
       "      <td>35.65</td>\n",
       "      <td>37.05</td>\n",
       "      <td>1838</td>\n",
       "      <td>-4.22</td>\n",
       "    </tr>\n",
       "    <tr>\n",
       "      <th>1</th>\n",
       "      <td>AT00000FACC2</td>\n",
       "      <td>2022-11-24</td>\n",
       "      <td>7.94</td>\n",
       "      <td>7.80</td>\n",
       "      <td>7.73</td>\n",
       "      <td>7.94</td>\n",
       "      <td>2785</td>\n",
       "      <td>-6.70</td>\n",
       "    </tr>\n",
       "    <tr>\n",
       "      <th>2</th>\n",
       "      <td>AT0000606306</td>\n",
       "      <td>2022-11-24</td>\n",
       "      <td>19.15</td>\n",
       "      <td>15.92</td>\n",
       "      <td>15.92</td>\n",
       "      <td>19.49</td>\n",
       "      <td>101681</td>\n",
       "      <td>-25.68</td>\n",
       "    </tr>\n",
       "    <tr>\n",
       "      <th>3</th>\n",
       "      <td>AT0000609607</td>\n",
       "      <td>2022-11-24</td>\n",
       "      <td>12.00</td>\n",
       "      <td>11.36</td>\n",
       "      <td>11.26</td>\n",
       "      <td>12.00</td>\n",
       "      <td>824</td>\n",
       "      <td>-7.04</td>\n",
       "    </tr>\n",
       "    <tr>\n",
       "      <th>4</th>\n",
       "      <td>AT0000644505</td>\n",
       "      <td>2022-11-24</td>\n",
       "      <td>96.30</td>\n",
       "      <td>94.60</td>\n",
       "      <td>93.70</td>\n",
       "      <td>97.20</td>\n",
       "      <td>656</td>\n",
       "      <td>-4.25</td>\n",
       "    </tr>\n",
       "    <tr>\n",
       "      <th>...</th>\n",
       "      <td>...</td>\n",
       "      <td>...</td>\n",
       "      <td>...</td>\n",
       "      <td>...</td>\n",
       "      <td>...</td>\n",
       "      <td>...</td>\n",
       "      <td>...</td>\n",
       "      <td>...</td>\n",
       "    </tr>\n",
       "    <tr>\n",
       "      <th>3125</th>\n",
       "      <td>XS2284324667</td>\n",
       "      <td>2022-11-24</td>\n",
       "      <td>40.03</td>\n",
       "      <td>40.31</td>\n",
       "      <td>39.99</td>\n",
       "      <td>40.90</td>\n",
       "      <td>9797</td>\n",
       "      <td>4.81</td>\n",
       "    </tr>\n",
       "    <tr>\n",
       "      <th>3126</th>\n",
       "      <td>XS2314659447</td>\n",
       "      <td>2022-11-24</td>\n",
       "      <td>8.76</td>\n",
       "      <td>8.94</td>\n",
       "      <td>8.76</td>\n",
       "      <td>9.02</td>\n",
       "      <td>52</td>\n",
       "      <td>2.81</td>\n",
       "    </tr>\n",
       "    <tr>\n",
       "      <th>3127</th>\n",
       "      <td>XS2314660700</td>\n",
       "      <td>2022-11-24</td>\n",
       "      <td>22.76</td>\n",
       "      <td>23.60</td>\n",
       "      <td>22.76</td>\n",
       "      <td>23.60</td>\n",
       "      <td>150</td>\n",
       "      <td>8.13</td>\n",
       "    </tr>\n",
       "    <tr>\n",
       "      <th>3128</th>\n",
       "      <td>XS2376095068</td>\n",
       "      <td>2022-11-24</td>\n",
       "      <td>31.63</td>\n",
       "      <td>31.57</td>\n",
       "      <td>31.57</td>\n",
       "      <td>31.63</td>\n",
       "      <td>3</td>\n",
       "      <td>-7.40</td>\n",
       "    </tr>\n",
       "    <tr>\n",
       "      <th>3129</th>\n",
       "      <td>XS2434891219</td>\n",
       "      <td>2022-11-24</td>\n",
       "      <td>3.15</td>\n",
       "      <td>3.15</td>\n",
       "      <td>3.15</td>\n",
       "      <td>3.16</td>\n",
       "      <td>1300</td>\n",
       "      <td>-7.88</td>\n",
       "    </tr>\n",
       "  </tbody>\n",
       "</table>\n",
       "<p>3130 rows × 8 columns</p>\n",
       "</div>"
      ],
      "text/plain": [
       "              ISIN        Date  opening_price_eur  closing_price_eur  \\\n",
       "0     AT000000STR1  2022-11-24              36.05              36.35   \n",
       "1     AT00000FACC2  2022-11-24               7.94               7.80   \n",
       "2     AT0000606306  2022-11-24              19.15              15.92   \n",
       "3     AT0000609607  2022-11-24              12.00              11.36   \n",
       "4     AT0000644505  2022-11-24              96.30              94.60   \n",
       "...            ...         ...                ...                ...   \n",
       "3125  XS2284324667  2022-11-24              40.03              40.31   \n",
       "3126  XS2314659447  2022-11-24               8.76               8.94   \n",
       "3127  XS2314660700  2022-11-24              22.76              23.60   \n",
       "3128  XS2376095068  2022-11-24              31.63              31.57   \n",
       "3129  XS2434891219  2022-11-24               3.15               3.15   \n",
       "\n",
       "      minimum_price_eur  maximum_price_eur  daily_traded_volume  \\\n",
       "0                 35.65              37.05                 1838   \n",
       "1                  7.73               7.94                 2785   \n",
       "2                 15.92              19.49               101681   \n",
       "3                 11.26              12.00                  824   \n",
       "4                 93.70              97.20                  656   \n",
       "...                 ...                ...                  ...   \n",
       "3125              39.99              40.90                 9797   \n",
       "3126               8.76               9.02                   52   \n",
       "3127              22.76              23.60                  150   \n",
       "3128              31.57              31.63                    3   \n",
       "3129               3.15               3.16                 1300   \n",
       "\n",
       "      change_prev_closing_%  \n",
       "0                     -4.22  \n",
       "1                     -6.70  \n",
       "2                    -25.68  \n",
       "3                     -7.04  \n",
       "4                     -4.25  \n",
       "...                     ...  \n",
       "3125                   4.81  \n",
       "3126                   2.81  \n",
       "3127                   8.13  \n",
       "3128                  -7.40  \n",
       "3129                  -7.88  \n",
       "\n",
       "[3130 rows x 8 columns]"
      ]
     },
     "execution_count": 27,
     "metadata": {},
     "output_type": "execute_result"
    }
   ],
   "source": [
    "df_report"
   ]
  },
  {
   "cell_type": "code",
   "execution_count": null,
   "id": "eae35651",
   "metadata": {},
   "outputs": [],
   "source": []
  }
 ],
 "metadata": {
  "kernelspec": {
   "display_name": "Python 3 (ipykernel)",
   "language": "python",
   "name": "python3"
  },
  "language_info": {
   "codemirror_mode": {
    "name": "ipython",
    "version": 3
   },
   "file_extension": ".py",
   "mimetype": "text/x-python",
   "name": "python",
   "nbconvert_exporter": "python",
   "pygments_lexer": "ipython3",
   "version": "3.10.8"
  }
 },
 "nbformat": 4,
 "nbformat_minor": 5
}
