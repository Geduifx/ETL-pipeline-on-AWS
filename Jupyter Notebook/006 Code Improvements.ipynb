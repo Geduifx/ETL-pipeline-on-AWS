{
 "cells": [
  {
   "cell_type": "code",
   "execution_count": 45,
   "id": "dd4dad0e",
   "metadata": {},
   "outputs": [],
   "source": [
    "import boto3 # Python integration with AWS.\n",
    "import pandas as pd # Read csv.\n",
    "from io import StringIO, BytesIO # StringIO to read csv on AWS. BytesIO to save as Parquet file to S3.\n",
    "from datetime import datetime, timedelta # Date functions."
   ]
  },
  {
   "cell_type": "code",
   "execution_count": 46,
   "id": "2d598d01",
   "metadata": {},
   "outputs": [],
   "source": [
    "# Argument Date for start of report\n",
    "arg_date = '2022-11-22'\n",
    "# Moving all arguments and parameters to the beggining of the code.\n",
    "scr_format = '%Y-%m-%d'\n",
    "scr_bucket = 'xetra-1234'\n",
    "trg_bucket = 'manoetl123'\n",
    "columns = ['ISIN', 'Date', 'Time', 'StartPrice', 'MaxPrice', 'MinPrice', 'EndPrice', 'TradedVolume']\n",
    "# Write to S3.\n",
    "key = 'xetra_daily_report_' + datetime.today().strftime(\"%Y%m%d_%H%M%S\") + '.parquet'"
   ]
  },
  {
   "cell_type": "code",
   "execution_count": 47,
   "id": "bcb6c08d",
   "metadata": {},
   "outputs": [],
   "source": [
    "# Convert to data type and use previous day\n",
    "arg_date_dt = datetime.strptime(arg_date, scr_format).date() - timedelta(days=1)"
   ]
  },
  {
   "cell_type": "code",
   "execution_count": 48,
   "id": "acf52b0c",
   "metadata": {},
   "outputs": [],
   "source": [
    "# Variables for data on AWS S3.\n",
    "s3 = boto3.resource('s3')\n",
    "bucket = s3.Bucket(scr_bucket)\n",
    "# List of filtered CSVs.\n",
    "# Filter using arg_date\n",
    "objects = [obj for obj in bucket.objects.all() if datetime.strptime(obj.key.split(\"/\")[0], scr_format).date() >= arg_date_dt]"
   ]
  },
  {
   "cell_type": "code",
   "execution_count": 49,
   "id": "83ebc8bc",
   "metadata": {},
   "outputs": [],
   "source": [
    "def csv_to_df(filename):\n",
    "    csv_obj = bucket.Object(key=filename).get().get('Body').read().decode('utf-8')\n",
    "    # Read csvs with StringIO (needed for AWS) and Pandas\n",
    "    data = StringIO(csv_obj)\n",
    "    df = pd.read_csv(data, delimiter=',')\n",
    "    return df\n",
    "df_all = pd.concat([csv_to_df(obj.key) for obj in objects], ignore_index=True)"
   ]
  },
  {
   "cell_type": "code",
   "execution_count": 50,
   "id": "088e63d2",
   "metadata": {},
   "outputs": [],
   "source": [
    "# DF with filtered columns.\n",
    "df_all = df_all.loc[:, columns]"
   ]
  },
  {
   "cell_type": "code",
   "execution_count": 51,
   "id": "abc6a5f0",
   "metadata": {},
   "outputs": [],
   "source": [
    "# Filter out empty lines.\n",
    "df_all.dropna(inplace=True)"
   ]
  },
  {
   "cell_type": "markdown",
   "id": "8b6f7b48",
   "metadata": {},
   "source": [
    "# Get opening price per ISIN and day"
   ]
  },
  {
   "cell_type": "code",
   "execution_count": 52,
   "id": "a035feb1",
   "metadata": {},
   "outputs": [],
   "source": [
    "# Get opening price per ISIN and day\n",
    "# Create new column with opening price.\n",
    "df_all['opening_price'] = df_all.sort_values(by=['Time']).groupby(['ISIN', 'Date'])['StartPrice'].transform('first')"
   ]
  },
  {
   "cell_type": "markdown",
   "id": "d431b53a",
   "metadata": {},
   "source": [
    "Get closing price per ISIN and day"
   ]
  },
  {
   "cell_type": "code",
   "execution_count": 53,
   "id": "754bfb96",
   "metadata": {},
   "outputs": [],
   "source": [
    "# Get closing price per ISIN and day\n",
    "# Create new column with closing price.\n",
    "df_all['closing_price'] = df_all.sort_values(by=['Time']).groupby(['ISIN', 'Date'])['StartPrice'].transform('last')"
   ]
  },
  {
   "cell_type": "code",
   "execution_count": 54,
   "id": "c3562ff4",
   "metadata": {},
   "outputs": [],
   "source": [
    "# Aggregations\n",
    "df_all = df_all.groupby(['ISIN', 'Date'], as_index=False).agg(opening_price_eur=('opening_price', 'min'), closing_price_eur=('closing_price', 'min'), minimum_price_eur=('MinPrice', 'min'), maximum_price_eur=('MaxPrice', 'max'), daily_traded_volume=('TradedVolume', 'sum'))"
   ]
  },
  {
   "cell_type": "markdown",
   "id": "f7179a30",
   "metadata": {},
   "source": [
    "## Percent Change Prev Closing"
   ]
  },
  {
   "cell_type": "code",
   "execution_count": 55,
   "id": "27f92ead",
   "metadata": {},
   "outputs": [],
   "source": [
    "# Percent Change Prev Closing\n",
    "df_all['prev_closing_price'] = df_all.sort_values(by=['Date']).groupby(['ISIN'])['closing_price_eur'].shift(1)"
   ]
  },
  {
   "cell_type": "code",
   "execution_count": 56,
   "id": "012ff7a1",
   "metadata": {},
   "outputs": [],
   "source": [
    "df_all['change_prev_closing_%'] = (df_all['closing_price_eur'] - df_all['prev_closing_price']) / df_all['prev_closing_price'] * 100"
   ]
  },
  {
   "cell_type": "code",
   "execution_count": 57,
   "id": "c6781102",
   "metadata": {},
   "outputs": [],
   "source": [
    "# Remove column and update df_all\n",
    "df_all.drop(columns=['prev_closing_price'], inplace=True)"
   ]
  },
  {
   "cell_type": "code",
   "execution_count": 58,
   "id": "58a8029d",
   "metadata": {},
   "outputs": [],
   "source": [
    "# Round everything.\n",
    "df_all = df_all.round(decimals=2)"
   ]
  },
  {
   "cell_type": "code",
   "execution_count": 59,
   "id": "ff97d636",
   "metadata": {},
   "outputs": [],
   "source": [
    "# Filter by date, don't show previous date that was used for calculation.\n",
    "df_all = df_all[df_all.Date >= arg_date]"
   ]
  },
  {
   "cell_type": "markdown",
   "id": "86b2d107",
   "metadata": {},
   "source": [
    "## Write to S3."
   ]
  },
  {
   "cell_type": "code",
   "execution_count": 60,
   "id": "ca7356ab",
   "metadata": {},
   "outputs": [
    {
     "data": {
      "text/plain": [
       "s3.Object(bucket_name='manoetl123', key='xetra_daily_report_20221122_233442.parquet')"
      ]
     },
     "execution_count": 60,
     "metadata": {},
     "output_type": "execute_result"
    }
   ],
   "source": [
    "out_buffer = BytesIO()\n",
    "df_all.to_parquet(out_buffer, index=False)\n",
    "bucket_target = s3.Bucket(trg_bucket)\n",
    "bucket_target.put_object(Body=out_buffer.getvalue(), Key=key)"
   ]
  },
  {
   "cell_type": "code",
   "execution_count": 61,
   "id": "88291718",
   "metadata": {},
   "outputs": [
    {
     "name": "stdout",
     "output_type": "stream",
     "text": [
      "xetra_daily_report_20221122_222801.parquet\n",
      "xetra_daily_report_20221122_233442.parquet\n"
     ]
    }
   ],
   "source": [
    "# Read the uploaded file.\n",
    "for obj in bucket_target.objects.all():\n",
    "    print(obj.key)"
   ]
  },
  {
   "cell_type": "code",
   "execution_count": 64,
   "id": "ba481f0f",
   "metadata": {},
   "outputs": [],
   "source": [
    "prq_obj = bucket_target.Object(key='xetra_daily_report_20221122_233442.parquet').get().get('Body').read()\n",
    "data = BytesIO(prq_obj)\n",
    "df_report = pd.read_parquet(data)"
   ]
  },
  {
   "cell_type": "code",
   "execution_count": 65,
   "id": "a3494b8e",
   "metadata": {},
   "outputs": [
    {
     "data": {
      "text/html": [
       "<div>\n",
       "<style scoped>\n",
       "    .dataframe tbody tr th:only-of-type {\n",
       "        vertical-align: middle;\n",
       "    }\n",
       "\n",
       "    .dataframe tbody tr th {\n",
       "        vertical-align: top;\n",
       "    }\n",
       "\n",
       "    .dataframe thead th {\n",
       "        text-align: right;\n",
       "    }\n",
       "</style>\n",
       "<table border=\"1\" class=\"dataframe\">\n",
       "  <thead>\n",
       "    <tr style=\"text-align: right;\">\n",
       "      <th></th>\n",
       "      <th>ISIN</th>\n",
       "      <th>Date</th>\n",
       "      <th>opening_price_eur</th>\n",
       "      <th>closing_price_eur</th>\n",
       "      <th>minimum_price_eur</th>\n",
       "      <th>maximum_price_eur</th>\n",
       "      <th>daily_traded_volume</th>\n",
       "      <th>change_prev_closing_%</th>\n",
       "    </tr>\n",
       "  </thead>\n",
       "  <tbody>\n",
       "    <tr>\n",
       "      <th>0</th>\n",
       "      <td>AT000000STR1</td>\n",
       "      <td>2022-11-22</td>\n",
       "      <td>36.40</td>\n",
       "      <td>36.85</td>\n",
       "      <td>36.40</td>\n",
       "      <td>36.85</td>\n",
       "      <td>1475</td>\n",
       "      <td>-1.60</td>\n",
       "    </tr>\n",
       "    <tr>\n",
       "      <th>1</th>\n",
       "      <td>AT00000FACC2</td>\n",
       "      <td>2022-11-22</td>\n",
       "      <td>7.89</td>\n",
       "      <td>8.47</td>\n",
       "      <td>7.89</td>\n",
       "      <td>8.47</td>\n",
       "      <td>1956</td>\n",
       "      <td>1.80</td>\n",
       "    </tr>\n",
       "    <tr>\n",
       "      <th>2</th>\n",
       "      <td>AT0000606306</td>\n",
       "      <td>2022-11-22</td>\n",
       "      <td>21.36</td>\n",
       "      <td>21.78</td>\n",
       "      <td>21.20</td>\n",
       "      <td>22.62</td>\n",
       "      <td>61546</td>\n",
       "      <td>-8.26</td>\n",
       "    </tr>\n",
       "    <tr>\n",
       "      <th>3</th>\n",
       "      <td>AT0000609607</td>\n",
       "      <td>2022-11-22</td>\n",
       "      <td>12.20</td>\n",
       "      <td>12.30</td>\n",
       "      <td>12.14</td>\n",
       "      <td>12.32</td>\n",
       "      <td>930</td>\n",
       "      <td>-1.28</td>\n",
       "    </tr>\n",
       "    <tr>\n",
       "      <th>4</th>\n",
       "      <td>AT0000644505</td>\n",
       "      <td>2022-11-22</td>\n",
       "      <td>98.40</td>\n",
       "      <td>100.80</td>\n",
       "      <td>98.40</td>\n",
       "      <td>102.20</td>\n",
       "      <td>2413</td>\n",
       "      <td>-1.56</td>\n",
       "    </tr>\n",
       "    <tr>\n",
       "      <th>...</th>\n",
       "      <td>...</td>\n",
       "      <td>...</td>\n",
       "      <td>...</td>\n",
       "      <td>...</td>\n",
       "      <td>...</td>\n",
       "      <td>...</td>\n",
       "      <td>...</td>\n",
       "      <td>...</td>\n",
       "    </tr>\n",
       "    <tr>\n",
       "      <th>3248</th>\n",
       "      <td>XS2284324667</td>\n",
       "      <td>2022-11-22</td>\n",
       "      <td>38.72</td>\n",
       "      <td>38.33</td>\n",
       "      <td>38.27</td>\n",
       "      <td>39.07</td>\n",
       "      <td>4245</td>\n",
       "      <td>0.64</td>\n",
       "    </tr>\n",
       "    <tr>\n",
       "      <th>3249</th>\n",
       "      <td>XS2314659447</td>\n",
       "      <td>2022-11-22</td>\n",
       "      <td>8.74</td>\n",
       "      <td>8.76</td>\n",
       "      <td>8.71</td>\n",
       "      <td>8.81</td>\n",
       "      <td>133</td>\n",
       "      <td>0.22</td>\n",
       "    </tr>\n",
       "    <tr>\n",
       "      <th>3250</th>\n",
       "      <td>XS2314660700</td>\n",
       "      <td>2022-11-22</td>\n",
       "      <td>22.10</td>\n",
       "      <td>22.04</td>\n",
       "      <td>22.04</td>\n",
       "      <td>22.10</td>\n",
       "      <td>239</td>\n",
       "      <td>1.60</td>\n",
       "    </tr>\n",
       "    <tr>\n",
       "      <th>3251</th>\n",
       "      <td>XS2376095068</td>\n",
       "      <td>2022-11-22</td>\n",
       "      <td>32.47</td>\n",
       "      <td>33.04</td>\n",
       "      <td>32.47</td>\n",
       "      <td>33.22</td>\n",
       "      <td>758</td>\n",
       "      <td>-3.36</td>\n",
       "    </tr>\n",
       "    <tr>\n",
       "      <th>3252</th>\n",
       "      <td>XS2434891219</td>\n",
       "      <td>2022-11-22</td>\n",
       "      <td>3.26</td>\n",
       "      <td>3.32</td>\n",
       "      <td>3.26</td>\n",
       "      <td>3.32</td>\n",
       "      <td>0</td>\n",
       "      <td>-3.33</td>\n",
       "    </tr>\n",
       "  </tbody>\n",
       "</table>\n",
       "<p>3253 rows × 8 columns</p>\n",
       "</div>"
      ],
      "text/plain": [
       "              ISIN        Date  opening_price_eur  closing_price_eur  \\\n",
       "0     AT000000STR1  2022-11-22              36.40              36.85   \n",
       "1     AT00000FACC2  2022-11-22               7.89               8.47   \n",
       "2     AT0000606306  2022-11-22              21.36              21.78   \n",
       "3     AT0000609607  2022-11-22              12.20              12.30   \n",
       "4     AT0000644505  2022-11-22              98.40             100.80   \n",
       "...            ...         ...                ...                ...   \n",
       "3248  XS2284324667  2022-11-22              38.72              38.33   \n",
       "3249  XS2314659447  2022-11-22               8.74               8.76   \n",
       "3250  XS2314660700  2022-11-22              22.10              22.04   \n",
       "3251  XS2376095068  2022-11-22              32.47              33.04   \n",
       "3252  XS2434891219  2022-11-22               3.26               3.32   \n",
       "\n",
       "      minimum_price_eur  maximum_price_eur  daily_traded_volume  \\\n",
       "0                 36.40              36.85                 1475   \n",
       "1                  7.89               8.47                 1956   \n",
       "2                 21.20              22.62                61546   \n",
       "3                 12.14              12.32                  930   \n",
       "4                 98.40             102.20                 2413   \n",
       "...                 ...                ...                  ...   \n",
       "3248              38.27              39.07                 4245   \n",
       "3249               8.71               8.81                  133   \n",
       "3250              22.04              22.10                  239   \n",
       "3251              32.47              33.22                  758   \n",
       "3252               3.26               3.32                    0   \n",
       "\n",
       "      change_prev_closing_%  \n",
       "0                     -1.60  \n",
       "1                      1.80  \n",
       "2                     -8.26  \n",
       "3                     -1.28  \n",
       "4                     -1.56  \n",
       "...                     ...  \n",
       "3248                   0.64  \n",
       "3249                   0.22  \n",
       "3250                   1.60  \n",
       "3251                  -3.36  \n",
       "3252                  -3.33  \n",
       "\n",
       "[3253 rows x 8 columns]"
      ]
     },
     "execution_count": 65,
     "metadata": {},
     "output_type": "execute_result"
    }
   ],
   "source": [
    "df_report"
   ]
  },
  {
   "cell_type": "code",
   "execution_count": null,
   "id": "eae35651",
   "metadata": {},
   "outputs": [],
   "source": []
  }
 ],
 "metadata": {
  "kernelspec": {
   "display_name": "Python 3 (ipykernel)",
   "language": "python",
   "name": "python3"
  },
  "language_info": {
   "codemirror_mode": {
    "name": "ipython",
    "version": 3
   },
   "file_extension": ".py",
   "mimetype": "text/x-python",
   "name": "python",
   "nbconvert_exporter": "python",
   "pygments_lexer": "ipython3",
   "version": "3.10.8"
  }
 },
 "nbformat": 4,
 "nbformat_minor": 5
}
